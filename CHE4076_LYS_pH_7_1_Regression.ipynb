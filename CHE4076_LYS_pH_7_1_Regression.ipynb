{
  "nbformat": 4,
  "nbformat_minor": 0,
  "metadata": {
    "colab": {
      "provenance": [],
      "authorship_tag": "ABX9TyMd8c/jwNyI/rtfBevCqWBE",
      "include_colab_link": true
    },
    "kernelspec": {
      "name": "python3",
      "display_name": "Python 3"
    },
    "language_info": {
      "name": "python"
    }
  },
  "cells": [
    {
      "cell_type": "markdown",
      "metadata": {
        "id": "view-in-github",
        "colab_type": "text"
      },
      "source": [
        "<a href=\"https://colab.research.google.com/github/michaelknorr/CHE4076/blob/main/CHE4076_LYS_pH_7_1_Regression.ipynb\" target=\"_parent\"><img src=\"https://colab.research.google.com/assets/colab-badge.svg\" alt=\"Open In Colab\"/></a>"
      ]
    },
    {
      "cell_type": "code",
      "source": [
        "from google.colab import drive\n",
        "drive.mount('/content/drive')\n"
      ],
      "metadata": {
        "colab": {
          "base_uri": "https://localhost:8080/"
        },
        "id": "J5usqxU5QUAw",
        "outputId": "46ca0689-e126-433a-9e0f-90aa14d542f7"
      },
      "execution_count": null,
      "outputs": [
        {
          "output_type": "stream",
          "name": "stdout",
          "text": [
            "Drive already mounted at /content/drive; to attempt to forcibly remount, call drive.mount(\"/content/drive\", force_remount=True).\n"
          ]
        }
      ]
    },
    {
      "cell_type": "code",
      "source": [
        "import pandas as pd\n",
        "\n",
        "# Load the Excel file with the sheet name 'Sphere1'\n",
        "df = pd.read_excel('/content/drive/My Drive/Conc Profile LYS pH 7.1.xls', sheet_name='Sphere1', header=None, usecols=\"C:S\", skiprows=3, nrows=736)\n",
        "df1=pd.read_excel('/content/drive/My Drive/Conc Profile LYS pH 7.1.xls', sheet_name='Sphere1', header=None, usecols=\"Y:AO\", skiprows=100, nrows=1)\n",
        "df2 = pd.read_excel('/content/drive/My Drive/Conc Profile LYS pH 7.1.xls', sheet_name='Sphere1', header=None, skiprows=66, usecols=\"X\", nrows=21)\n",
        "raw_data_array = df.to_numpy()\n",
        "radial_positions = df1.to_numpy().flatten()  # Flattening the array to make it 1D\n",
        "time_steps = df2.to_numpy().flatten()  # Rows 102 to 121 (index 101 to 120), column X (index 23)\n",
        "\n",
        "print(radial_positions.shape)\n",
        "print(time_steps.shape)"
      ],
      "metadata": {
        "colab": {
          "base_uri": "https://localhost:8080/"
        },
        "id": "qh5b0bUK9uhG",
        "outputId": "ea13c279-53a1-4ebb-d562-60f823f58295"
      },
      "execution_count": null,
      "outputs": [
        {
          "output_type": "stream",
          "name": "stdout",
          "text": [
            "(17,)\n",
            "(21,)\n"
          ]
        }
      ]
    },
    {
      "cell_type": "code",
      "source": [
        "import numpy as np\n",
        "\n",
        "# Number of radial angles per time step\n",
        "radial_angles_per_timestep = 32\n",
        "\n",
        "# Calculate the number of time steps\n",
        "num_time_steps = raw_data_array.shape[0] // radial_angles_per_timestep\n",
        "\n",
        "# Initialize an array to store the averages\n",
        "average_raw_data_array = np.zeros((num_time_steps, raw_data_array.shape[1]))\n",
        "\n",
        "# Calculate the averages for each column (radial position) across every 32 entries (radial angles per time step)\n",
        "for col in range(raw_data_array.shape[1]):\n",
        "    for t in range(num_time_steps):\n",
        "        # Extract the relevant 32 values for this column and time step\n",
        "        radial_angles = raw_data_array[t * radial_angles_per_timestep:(t + 1) * radial_angles_per_timestep, col]\n",
        "        # Calculate the average of the 32 values\n",
        "        average_raw_data_array[t, col] = np.mean(radial_angles)\n",
        "\n",
        "# Display the shape of the resulting average array\n",
        "print(f\"Average raw data array shape: {average_raw_data_array.shape}\")\n",
        "\n",
        "# Remove the last two rows from the average_raw_data_array to create the trimmed array\n",
        "average_raw_data_array_trimmed = average_raw_data_array[:-2, :]\n",
        "\n",
        "# Display the shape of the trimmed array\n",
        "print(f\"Trimmed average raw data array shape: {average_raw_data_array_trimmed.shape}\")\n",
        "\n",
        "\n",
        "\n"
      ],
      "metadata": {
        "colab": {
          "base_uri": "https://localhost:8080/"
        },
        "id": "fa6QXauQjumH",
        "outputId": "428f82e4-0316-49dc-9cb5-b5e85685e5a5"
      },
      "execution_count": null,
      "outputs": [
        {
          "output_type": "stream",
          "name": "stdout",
          "text": [
            "Average raw data array shape: (23, 17)\n",
            "Trimmed average raw data array shape: (21, 17)\n"
          ]
        }
      ]
    },
    {
      "cell_type": "code",
      "source": [
        "# Find the global minimum and maximum values in the entire trimmed average array\n",
        "global_min = np.min(average_raw_data_array_trimmed)  # Minimum value in the entire array\n",
        "global_max = 67.708375\n",
        "# np.max(average_raw_data_array_trimmed)  # Maximum value in the entire array\n",
        "\n",
        "# Normalize the data using the global min and max values for the entire array\n",
        "normalized_data_global = (average_raw_data_array_trimmed - global_min) / (global_max - global_min)\n",
        "\n",
        "\n",
        "# Display the shape of the normalized data\n",
        "print(f\"Normalized data (global) shape: {normalized_data_global.shape}\")\n",
        "\n",
        "# Optional: display the normalized data\n",
        "#print(normalized_data_global)\n",
        "\n"
      ],
      "metadata": {
        "colab": {
          "base_uri": "https://localhost:8080/"
        },
        "id": "JlpYWn0zBSni",
        "outputId": "58cb99fa-cc4a-4ea2-f7c5-667dd5bf4371"
      },
      "execution_count": null,
      "outputs": [
        {
          "output_type": "stream",
          "name": "stdout",
          "text": [
            "Normalized data (global) shape: (21, 17)\n"
          ]
        }
      ]
    },
    {
      "cell_type": "code",
      "source": [
        "# Remove rows 0 and 1 from the normalized data\n",
        "rescaled_normalized_averages = normalized_data_global[:, 1:]\n",
        "\n",
        "# Display the shape of the rescaled normalized averages\n",
        "print(f\"Rescaled normalized averages shape: {rescaled_normalized_averages.shape}\")\n",
        "\n",
        "# Optional: display the rescaled normalized averages\n",
        "#print(rescaled_normalized_averages)\n"
      ],
      "metadata": {
        "colab": {
          "base_uri": "https://localhost:8080/"
        },
        "id": "YAMlBqp0ExOF",
        "outputId": "9bf923e0-b58e-42d3-d1c9-ed65cb242198"
      },
      "execution_count": null,
      "outputs": [
        {
          "output_type": "stream",
          "name": "stdout",
          "text": [
            "Rescaled normalized averages shape: (21, 16)\n"
          ]
        }
      ]
    },
    {
      "cell_type": "code",
      "source": [
        "pi=np.pi"
      ],
      "metadata": {
        "id": "Dsx1ylkyFD62"
      },
      "execution_count": null,
      "outputs": []
    },
    {
      "cell_type": "code",
      "source": [
        "from scipy.optimize import curve_fit\n",
        "import matplotlib.pyplot as plt\n",
        "\n",
        "# Define the diffusion model\n",
        "def diffusion_model(r, t, t_0, D_e, term=1):\n",
        "    rs = 0.00075  # cm\n",
        "    return (((-1)**term) / term) * np.sin(term * np.pi * r * 10**(-4) / rs) * np.exp(-D_e * term**2 * np.pi**2 * (t + t_0) / rs**2)\n",
        "\n",
        "\n"
      ],
      "metadata": {
        "id": "RvuLzFoX3wl0"
      },
      "execution_count": null,
      "outputs": []
    },
    {
      "cell_type": "code",
      "source": [
        "from scipy.optimize import curve_fit\n",
        "import numpy as np\n",
        "\n",
        "# Define the diffusion model function\n",
        "def diffusion_model(r, t, t_0, D_e, C_0):\n",
        "    rs = 0.00075  # cm\n",
        "    sum_terms = 0\n",
        "\n",
        "    for term in range(1, 6):\n",
        "        # Numerically stable exponential term\n",
        "        exp_term = np.exp(\n",
        "            np.clip(-D_e * term**2 * np.pi**2 * (t + t_0) / rs**2, -50, 50)\n",
        "        )\n",
        "        sum_terms += (((-1) ** term) / term) * np.sin(term * np.pi * r * 10**-4 / rs) * exp_term\n",
        "\n",
        "    # Avoid division by zero\n",
        "    r_safe = np.where(r == 0, 1e-10, r)\n",
        "\n",
        "    return (1 + (2 * rs / (np.pi * r_safe * 10**-4)) * sum_terms) * C_0 + 5.18E-5 * t\n",
        "\n",
        "# Fit the diffusion model\n",
        "def fit_diffusion_model(radial_positions, time_steps, normalized_data_global):\n",
        "    def model_func(r, t_0, D_e, C_0):\n",
        "        return diffusion_model(r, t, t_0, D_e, C_0)\n",
        "\n",
        "    initial_guess = [192.97502, 1.3e-10, 0.9184378]\n",
        "    bounds = ([0, 0, 0], [500, 1e-9, 10])  # Adjust bounds for stability\n",
        "\n",
        "    params_list = []\n",
        "    for time_idx, t in enumerate(time_steps):\n",
        "        r_values = radial_positions\n",
        "        data_values = normalized_data_global[time_idx, :]\n",
        "\n",
        "        # Perform curve fitting with bounds\n",
        "        try:\n",
        "            params_opt, params_cov = curve_fit(\n",
        "                model_func, r_values, data_values, p0=initial_guess, bounds=bounds\n",
        "            )\n",
        "        except RuntimeError:\n",
        "            print(f\"Fit failed at time index {time_idx}\")\n",
        "            params_opt = [np.nan, np.nan, np.nan]\n",
        "\n",
        "        params_list.append(params_opt)\n",
        "\n",
        "    return np.array(params_list)\n",
        "\n",
        "# Assuming you have the radial_positions, time_steps, and data arrays ready\n",
        "params = fit_diffusion_model(radial_positions, time_steps, normalized_data_global)\n",
        "print(params)\n"
      ],
      "metadata": {
        "colab": {
          "base_uri": "https://localhost:8080/"
        },
        "id": "XZmniCa0dl1H",
        "outputId": "4ff9b0fb-16d2-4722-a9c3-7ae85ec188b1"
      },
      "execution_count": null,
      "outputs": [
        {
          "output_type": "stream",
          "name": "stdout",
          "text": [
            "[[3.30091192e+02 1.13355550e-10 4.90996939e-01]\n",
            " [2.84790160e+02 1.65368611e-10 4.68252166e-01]\n",
            " [3.00997270e+02 1.49453921e-10 4.75635342e-01]\n",
            " [2.94726727e+02 1.58924073e-10 4.85816557e-01]\n",
            " [2.85901764e+02 1.43508125e-10 4.92079547e-01]\n",
            " [3.58406404e+02 1.17768800e-10 5.14474216e-01]\n",
            " [2.65797981e+02 2.40091741e-10 5.09519684e-01]\n",
            " [2.70505112e+02 2.68230703e-10 5.17606355e-01]\n",
            " [4.65984975e+02 8.86309964e-10 5.30801925e-01]\n",
            " [4.77203065e+02 8.00653394e-10 5.45074582e-01]\n",
            " [3.00042794e+02 9.99999998e-10 5.71046509e-01]\n",
            " [4.62108181e+02 9.01294989e-10 5.93906868e-01]\n",
            " [3.66400227e+02 7.15550331e-10 5.73704248e-01]\n",
            " [3.53234706e+02 8.29995664e-10 6.09119185e-01]\n",
            " [3.86795821e+02 1.00000000e-09 6.42137583e-01]\n",
            " [3.86635633e+02 9.62047890e-10 6.68109697e-01]\n",
            " [3.86638743e+02 1.00000000e-09 6.90133631e-01]\n",
            " [3.82296858e+02 9.88502131e-10 7.13813832e-01]\n",
            " [3.78038050e+02 1.00000000e-09 7.05337669e-01]\n",
            " [3.65639589e+02 1.00000000e-09 7.01629936e-01]\n",
            " [3.60829597e+02 1.00000000e-09 7.00285851e-01]]\n"
          ]
        }
      ]
    },
    {
      "cell_type": "code",
      "source": [],
      "metadata": {
        "id": "WV2t47AInEjM"
      },
      "execution_count": null,
      "outputs": []
    }
  ]
}